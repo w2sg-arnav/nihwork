{
 "cells": [
  {
   "cell_type": "markdown",
   "metadata": {},
   "source": [
    "# Prepare Data for ALS Biomarker Analysis\n",
    "\n",
    "This notebook processes clinical, transcriptomics, proteomics, and epigenomics data for ALS biomarker analysis. We'll run the script step-by-step to identify and fix issues interactively."
   ]
  },
  {
   "cell_type": "code",
   "execution_count": 1,
   "metadata": {},
   "outputs": [
    {
     "name": "stdout",
     "output_type": "stream",
     "text": [
      "Defined paths:\n",
      "Clinical: /home/w2sg-arnav/nihwork/metadata/clinical/subjects.csv\n",
      "Transcriptomics Mapping: /home/w2sg-arnav/nihwork/als_data/transcriptomics/4_matrix/Sample Mapping Information/Sample Mapping File Feb 2024.csv\n",
      "Transcriptomics Data: /home/w2sg-arnav/nihwork/als_data/transcriptomics/4_matrix/AnswerALS-651-T-v1-release6_raw-counts.csv\n",
      "Proteomics Mapping: /home/w2sg-arnav/nihwork/als_data/proteomics/4_matrix/Sample Mapping Information/Sample Mapping File Feb 2024.csv\n",
      "Proteomics Data: /home/w2sg-arnav/nihwork/als_data/proteomics/4_matrix/AnswerALS-436-P_proteomics-protein-matrix_correctedImputed.txt\n",
      "Epigenomics Mapping: /home/w2sg-arnav/nihwork/als_data/epigenomics/4_matrix/Sample Mapping Information/Sample Mapping File Feb 2024.csv\n",
      "Epigenomics Data: /home/w2sg-arnav/nihwork/als_data/epigenomics/4_matrix/AnswerALS-620-E-v1-release6_DiffBind-raw-counts-minOverlap-0.1.csv\n",
      "Output Directory: /home/w2sg-arnav/nihwork/data/processed\n"
     ]
    }
   ],
   "source": [
    "# Cell 1: Import Libraries and Define Paths\n",
    "import pandas as pd\n",
    "import numpy as np\n",
    "import os\n",
    "from utils import main, create_unified_mapping, load_and_merge, handle_missing_values, \\\n",
    "    perform_initial_analysis, visualize_results, save_integrated_data  # Import all necessary functions\n",
    "\n",
    "# Define Data Paths (ABSOLUTE PATHS)\n",
    "BASE_DIR = \"/home/w2sg-arnav/nihwork\"  # Top-level project directory\n",
    "CLINICAL_DIR = os.path.join(BASE_DIR, \"metadata/clinical\")  # Corrected CLINICAL_DIR - assuming 'subjects.csv' is directly under 'metadata'\n",
    "DATA_ROOT = os.path.join(BASE_DIR, \"als_data\")  # Data subdirectory for 'omics data\n",
    "OUTPUT_DIR = os.path.join(BASE_DIR, \"data/processed\")  # Output directory\n",
    "os.makedirs(OUTPUT_DIR, exist_ok=True)\n",
    "\n",
    "# Clinical data path\n",
    "CLINICAL_PATH = os.path.join(CLINICAL_DIR, \"subjects.csv\")\n",
    "\n",
    "# Mapping files for each omics type\n",
    "mapping_files = {\n",
    "    \"transcriptomics\": os.path.join(DATA_ROOT, \"transcriptomics/4_matrix/Sample Mapping Information/Sample Mapping File Feb 2024.csv\"),\n",
    "    \"proteomics\": os.path.join(DATA_ROOT, \"proteomics/4_matrix/Sample Mapping Information/Sample Mapping File Feb 2024.csv\"),\n",
    "    \"epigenomics\": os.path.join(DATA_ROOT, \"epigenomics/4_matrix/Sample Mapping Information/Sample Mapping File Feb 2024.csv\"),\n",
    "}\n",
    "\n",
    "# Data paths for each omics type\n",
    "data_paths = {\n",
    "    \"transcriptomics\": os.path.join(DATA_ROOT, \"transcriptomics/4_matrix/AnswerALS-651-T-v1-release6_raw-counts.csv\"),\n",
    "    \"proteomics\": os.path.join(DATA_ROOT, \"proteomics/4_matrix/AnswerALS-436-P_proteomics-protein-matrix_correctedImputed.txt\"),\n",
    "    \"epigenomics\": os.path.join(DATA_ROOT, \"epigenomics/4_matrix/AnswerALS-620-E-v1-release6_DiffBind-raw-counts-minOverlap-0.1.csv\"),\n",
    "}\n",
    "\n",
    "# Display paths for verification\n",
    "print(\"Defined paths:\")\n",
    "print(f\"Clinical: {CLINICAL_PATH}\")\n",
    "print(f\"Transcriptomics Mapping: {mapping_files['transcriptomics']}\")\n",
    "print(f\"Transcriptomics Data: {data_paths['transcriptomics']}\")\n",
    "print(f\"Proteomics Mapping: {mapping_files['proteomics']}\")\n",
    "print(f\"Proteomics Data: {data_paths['proteomics']}\")\n",
    "print(f\"Epigenomics Mapping: {mapping_files['epigenomics']}\")\n",
    "print(f\"Epigenomics Data: {data_paths['epigenomics']}\")\n",
    "print(f\"Output Directory: {OUTPUT_DIR}\")"
   ]
  },
  {
   "cell_type": "markdown",
   "metadata": {},
   "source": [
    "### Verify Paths\n",
    "Run the cell above and check the printed paths. If any path is incorrect (e.g., `FileNotFoundError` in the next steps), update the corresponding variable. For example, `TRANSCRIPTOMICS_PATH` is still a placeholder."
   ]
  },
  {
   "cell_type": "code",
   "execution_count": 2,
   "metadata": {},
   "outputs": [
    {
     "name": "stdout",
     "output_type": "stream",
     "text": [
      "Columns in clinical_df: ['Participant_ID', 'SubjectUID', 'subject_group_id']\n",
      "Extracted clinical_ids from 'Participant ID': ['CASE-NEUAA295HHE', 'CTRL-NEUAA485DZL', 'CASE-NEUAA599TMX', 'CASE-NEUAB000NKC', 'CASE-NEUAC617GR5', 'CASE-NEUAD142RRY', 'CASE-NEUAD542VT0', 'CASE-NEUAD952KAZ', 'CASE-NEUAE228FF6', 'CASE-NEUAE431CGV']\n"
     ]
    },
    {
     "data": {
      "text/html": [
       "<div>\n",
       "<style scoped>\n",
       "    .dataframe tbody tr th:only-of-type {\n",
       "        vertical-align: middle;\n",
       "    }\n",
       "\n",
       "    .dataframe tbody tr th {\n",
       "        vertical-align: top;\n",
       "    }\n",
       "\n",
       "    .dataframe thead th {\n",
       "        text-align: right;\n",
       "    }\n",
       "</style>\n",
       "<table border=\"1\" class=\"dataframe\">\n",
       "  <thead>\n",
       "    <tr style=\"text-align: right;\">\n",
       "      <th></th>\n",
       "      <th>Participant ID</th>\n",
       "      <th>SubjectUID</th>\n",
       "      <th>subject_group_id</th>\n",
       "    </tr>\n",
       "  </thead>\n",
       "  <tbody>\n",
       "    <tr>\n",
       "      <th>0</th>\n",
       "      <td>CASE-NEUAA295HHE</td>\n",
       "      <td>NEUAA295HHE</td>\n",
       "      <td>1</td>\n",
       "    </tr>\n",
       "    <tr>\n",
       "      <th>1</th>\n",
       "      <td>CTRL-NEUAA485DZL</td>\n",
       "      <td>NEUAA485DZL</td>\n",
       "      <td>5</td>\n",
       "    </tr>\n",
       "    <tr>\n",
       "      <th>2</th>\n",
       "      <td>CASE-NEUAA599TMX</td>\n",
       "      <td>NEUAA599TMX</td>\n",
       "      <td>1</td>\n",
       "    </tr>\n",
       "    <tr>\n",
       "      <th>3</th>\n",
       "      <td>CASE-NEUAB000NKC</td>\n",
       "      <td>NEUAB000NKC</td>\n",
       "      <td>1</td>\n",
       "    </tr>\n",
       "    <tr>\n",
       "      <th>4</th>\n",
       "      <td>CASE-NEUAC617GR5</td>\n",
       "      <td>NEUAC617GR5</td>\n",
       "      <td>17</td>\n",
       "    </tr>\n",
       "  </tbody>\n",
       "</table>\n",
       "</div>"
      ],
      "text/plain": [
       "     Participant ID   SubjectUID  subject_group_id\n",
       "0  CASE-NEUAA295HHE  NEUAA295HHE                 1\n",
       "1  CTRL-NEUAA485DZL  NEUAA485DZL                 5\n",
       "2  CASE-NEUAA599TMX  NEUAA599TMX                 1\n",
       "3  CASE-NEUAB000NKC  NEUAB000NKC                 1\n",
       "4  CASE-NEUAC617GR5  NEUAC617GR5                17"
      ]
     },
     "execution_count": 2,
     "metadata": {},
     "output_type": "execute_result"
    }
   ],
   "source": [
    "# Cell 2: Load Clinical Data\n",
    "clinical_df = pd.read_csv(CLINICAL_PATH)\n",
    "print(\"Columns in clinical_df:\", clinical_df.columns.tolist())\n",
    "\n",
    "# Normalize column names and Participant ID\n",
    "clinical_df.rename(columns={\n",
    "    \"Participant_ID\": \"Participant ID\",\n",
    "    \"SubjectUID\": \"SubjectUID\"\n",
    "}, inplace=True, errors='ignore')\n",
    "clinical_df['Participant ID'] = clinical_df['Participant ID'].str.strip().str.upper()\n",
    "\n",
    "# Check if 'Participant ID' exists after renaming\n",
    "if 'Participant ID' not in clinical_df.columns:\n",
    "    print(\"Error: 'Participant ID' column not found after renaming. Using 'Participant_ID' instead.\")\n",
    "    if 'Participant_ID' in clinical_df.columns:\n",
    "        clinical_ids = clinical_df[\"Participant_ID\"].tolist()\n",
    "        print(\"Using 'Participant_ID' column directly. Extracted IDs:\", clinical_ids[:10])\n",
    "    else:\n",
    "        print(\"Error: Neither 'Participant ID' nor 'Participant_ID' found. Available columns:\", clinical_df.columns.tolist())\n",
    "        raise SystemExit(\"Exiting due to missing Participant ID column.\")\n",
    "else:\n",
    "    # Check for and handle duplicate participant IDs\n",
    "    if clinical_df['Participant ID'].duplicated().any():\n",
    "        print(\"Warning: Duplicate participant IDs found in clinical data. Dropping duplicates.\")\n",
    "        clinical_df.drop_duplicates(subset='Participant ID', keep='first', inplace=True)\n",
    "    clinical_ids = clinical_df[\"Participant ID\"].tolist()\n",
    "    print(\"Extracted clinical_ids from 'Participant ID':\", clinical_ids[:10])\n",
    "\n",
    "# Display the clinical DataFrame\n",
    "clinical_df.head()"
   ]
  },
  {
   "cell_type": "markdown",
   "metadata": {},
   "source": [
    "### Clinical Data Check\n",
    "- The cell above loads the clinical data and extracts participant IDs.\n",
    "- Verify the output shows the correct columns (`['Participant ID', 'SubjectUID', 'subject_group_id']`) and IDs.\n",
    "- The `clinical_df.head()` output lets you inspect the data."
   ]
  },
  {
   "cell_type": "code",
   "execution_count": 3,
   "metadata": {},
   "outputs": [
    {
     "name": "stdout",
     "output_type": "stream",
     "text": [
      "Processing mapping file for transcriptomics: /home/w2sg-arnav/nihwork/als_data/transcriptomics/4_matrix/Sample Mapping Information/Sample Mapping File Feb 2024.csv\n",
      "Warning: Duplicate participant IDs found in transcriptomics mapping. Keeping first occurrence.\n",
      "Sample transcriptomics_Sample_ID after processing:\n",
      "['CTRL-NEUEU392AE8-5234-T', 'CASE-NEUVM674HUA-5261-T', 'CASE-NEUHG791RV5-5268-T', 'CASE-NEUCE965ZGK-5275-T', 'CASE-NEUEM720BUU-5282-T']\n",
      "Processing mapping file for proteomics: /home/w2sg-arnav/nihwork/als_data/proteomics/4_matrix/Sample Mapping Information/Sample Mapping File Feb 2024.csv\n",
      "Warning: Duplicate participant IDs found in proteomics mapping. Keeping first occurrence.\n",
      "Sample proteomics_Sample_ID after processing:\n",
      "['CTRL-NEUEU392AE8-5234-P', 'CASE-NEUVM674HUA-5261-P', 'CASE-NEUHG791RV5-5268-P', 'CASE-NEUCE965ZGK-5275-P', 'CASE-NEUEM720BUU-5282-P']\n",
      "Processing mapping file for epigenomics: /home/w2sg-arnav/nihwork/als_data/epigenomics/4_matrix/Sample Mapping Information/Sample Mapping File Feb 2024.csv\n",
      "Warning: Duplicate participant IDs found in epigenomics mapping. Keeping first occurrence.\n",
      "Sample epigenomics_Sample_ID after processing:\n",
      "['CTRL-NEUEU392AE8-5234-E', 'CASE-NEUVM674HUA-5261-E', 'CASE-NEUHG791RV5-5268-E', 'CASE-NEUCE965ZGK-5275-E', 'CASE-NEUEM720BUU-5282-E']\n",
      "Unified sample mapping created successfully!\n"
     ]
    },
    {
     "data": {
      "text/html": [
       "<div>\n",
       "<style scoped>\n",
       "    .dataframe tbody tr th:only-of-type {\n",
       "        vertical-align: middle;\n",
       "    }\n",
       "\n",
       "    .dataframe tbody tr th {\n",
       "        vertical-align: top;\n",
       "    }\n",
       "\n",
       "    .dataframe thead th {\n",
       "        text-align: right;\n",
       "    }\n",
       "</style>\n",
       "<table border=\"1\" class=\"dataframe\">\n",
       "  <thead>\n",
       "    <tr style=\"text-align: right;\">\n",
       "      <th></th>\n",
       "      <th>Participant ID</th>\n",
       "      <th>transcriptomics_Sample_ID</th>\n",
       "      <th>transcriptomics_participant_code</th>\n",
       "      <th>proteomics_Sample_ID</th>\n",
       "      <th>proteomics_participant_code</th>\n",
       "      <th>epigenomics_Sample_ID</th>\n",
       "      <th>epigenomics_participant_code</th>\n",
       "    </tr>\n",
       "  </thead>\n",
       "  <tbody>\n",
       "    <tr>\n",
       "      <th>0</th>\n",
       "      <td>CASE-NEUAA295HHE</td>\n",
       "      <td>CASE-NEUAA295HHE-9010-T</td>\n",
       "      <td>NEUAA295HHE</td>\n",
       "      <td>CASE-NEUAA295HHE-9010-P</td>\n",
       "      <td>NEUAA295HHE</td>\n",
       "      <td>CASE-NEUAA295HHE-9010-E</td>\n",
       "      <td>NEUAA295HHE</td>\n",
       "    </tr>\n",
       "    <tr>\n",
       "      <th>1</th>\n",
       "      <td>CTRL-NEUAA485DZL</td>\n",
       "      <td>CTRL-NEUAA485DZL-7575-T</td>\n",
       "      <td>NEUAA485DZL</td>\n",
       "      <td>CTRL-NEUAA485DZL-7575-P</td>\n",
       "      <td>NEUAA485DZL</td>\n",
       "      <td>CTRL-NEUAA485DZL-7575-E</td>\n",
       "      <td>NEUAA485DZL</td>\n",
       "    </tr>\n",
       "    <tr>\n",
       "      <th>2</th>\n",
       "      <td>CASE-NEUAA599TMX</td>\n",
       "      <td>CASE-NEUAA599TMX-5314-T</td>\n",
       "      <td>NEUAA599TMX</td>\n",
       "      <td>CASE-NEUAA599TMX-5314-P</td>\n",
       "      <td>NEUAA599TMX</td>\n",
       "      <td>CASE-NEUAA599TMX-5314-E</td>\n",
       "      <td>NEUAA599TMX</td>\n",
       "    </tr>\n",
       "    <tr>\n",
       "      <th>3</th>\n",
       "      <td>CASE-NEUAB000NKC</td>\n",
       "      <td>CASE-NEUAB000NKC-5730-T</td>\n",
       "      <td>NEUAB000NKC</td>\n",
       "      <td>CASE-NEUAB000NKC-5730-P</td>\n",
       "      <td>NEUAB000NKC</td>\n",
       "      <td>CASE-NEUAB000NKC-5730-E</td>\n",
       "      <td>NEUAB000NKC</td>\n",
       "    </tr>\n",
       "    <tr>\n",
       "      <th>4</th>\n",
       "      <td>CASE-NEUAC617GR5</td>\n",
       "      <td>NaN</td>\n",
       "      <td>NaN</td>\n",
       "      <td>NaN</td>\n",
       "      <td>NaN</td>\n",
       "      <td>NaN</td>\n",
       "      <td>NaN</td>\n",
       "    </tr>\n",
       "  </tbody>\n",
       "</table>\n",
       "</div>"
      ],
      "text/plain": [
       "     Participant ID transcriptomics_Sample_ID  \\\n",
       "0  CASE-NEUAA295HHE   CASE-NEUAA295HHE-9010-T   \n",
       "1  CTRL-NEUAA485DZL   CTRL-NEUAA485DZL-7575-T   \n",
       "2  CASE-NEUAA599TMX   CASE-NEUAA599TMX-5314-T   \n",
       "3  CASE-NEUAB000NKC   CASE-NEUAB000NKC-5730-T   \n",
       "4  CASE-NEUAC617GR5                       NaN   \n",
       "\n",
       "  transcriptomics_participant_code     proteomics_Sample_ID  \\\n",
       "0                      NEUAA295HHE  CASE-NEUAA295HHE-9010-P   \n",
       "1                      NEUAA485DZL  CTRL-NEUAA485DZL-7575-P   \n",
       "2                      NEUAA599TMX  CASE-NEUAA599TMX-5314-P   \n",
       "3                      NEUAB000NKC  CASE-NEUAB000NKC-5730-P   \n",
       "4                              NaN                      NaN   \n",
       "\n",
       "  proteomics_participant_code    epigenomics_Sample_ID  \\\n",
       "0                 NEUAA295HHE  CASE-NEUAA295HHE-9010-E   \n",
       "1                 NEUAA485DZL  CTRL-NEUAA485DZL-7575-E   \n",
       "2                 NEUAA599TMX  CASE-NEUAA599TMX-5314-E   \n",
       "3                 NEUAB000NKC  CASE-NEUAB000NKC-5730-E   \n",
       "4                         NaN                      NaN   \n",
       "\n",
       "  epigenomics_participant_code  \n",
       "0                  NEUAA295HHE  \n",
       "1                  NEUAA485DZL  \n",
       "2                  NEUAA599TMX  \n",
       "3                  NEUAB000NKC  \n",
       "4                          NaN  "
      ]
     },
     "execution_count": 3,
     "metadata": {},
     "output_type": "execute_result"
    }
   ],
   "source": [
    "# Cell 3: Create Unified Sample Mapping\n",
    "unified_mapping = create_unified_mapping(\n",
    "    clinical_ids,\n",
    "    mapping_files,\n",
    "    participant_col=\"Participant ID\",\n",
    "    sample_col=\"Sample ID\"\n",
    ")\n",
    "\n",
    "if unified_mapping is None:\n",
    "    print(\"Error: Failed to create unified sample mapping. Exiting.\")\n",
    "    raise SystemExit(\"Exiting due to mapping failure.\")\n",
    "else:\n",
    "    unified_mapping.to_csv(os.path.join(OUTPUT_DIR, \"unified_sample_mapping.csv\"), index=False)\n",
    "    print(\"Unified sample mapping created successfully!\")\n",
    "\n",
    "# Display the unified mapping\n",
    "unified_mapping.head()"
   ]
  },
  {
   "cell_type": "code",
   "execution_count": 4,
   "metadata": {},
   "outputs": [
    {
     "name": "stdout",
     "output_type": "stream",
     "text": [
      "Total unmapped clinical IDs: 309\n",
      "Sample unmapped IDs: ['CASE-NEUND058PNV', 'CASE-NEUKU894PHF', 'CASE-NEURG707TFZ', 'CASE-NEUFZ620KX0', 'CASE-NEUXC293WA6']\n",
      "\n",
      "Sample of mapped IDs from clinical data:\n",
      "['CASE-NEURG115XK8', 'CASE-NEUAA599TMX', 'CASE-NEUDV274PR3', 'CASE-NEUFF238WXM', 'CASE-NEUET659KJL']\n",
      "\n",
      "Sample of unmapped IDs:\n",
      "['CASE-NEUND058PNV', 'CASE-NEUKU894PHF', 'CASE-NEURG707TFZ', 'CASE-NEUFZ620KX0', 'CASE-NEUXC293WA6']\n"
     ]
    }
   ],
   "source": [
    "# Cell 3.5: Investigate Unmapped Clinical IDs\n",
    "# Load the mapping files again for comparison\n",
    "mapping_dfs = {}\n",
    "for data_type, mapping_file in mapping_files.items():\n",
    "    mapping_dfs[data_type] = pd.read_csv(mapping_file)\n",
    "\n",
    "# Get all unique Participant IDs from mapping files\n",
    "all_mapped_ids = set()\n",
    "for df in mapping_dfs.values():\n",
    "    all_mapped_ids.update(df['Participant ID'].str.strip().str.upper().tolist())\n",
    "\n",
    "# Get clinical IDs\n",
    "clinical_ids_set = set(clinical_ids)\n",
    "\n",
    "# Find unmapped IDs and check for potential matches\n",
    "unmapped_ids = clinical_ids_set - all_mapped_ids\n",
    "print(f\"Total unmapped clinical IDs: {len(unmapped_ids)}\")\n",
    "print(f\"Sample unmapped IDs: {list(unmapped_ids)[:5]}\")\n",
    "\n",
    "# Check for formatting issues (e.g., extra spaces, case sensitivity)\n",
    "for unmapped_id in list(unmapped_ids)[:5]:  # Check first 5 for brevity\n",
    "    for data_type, df in mapping_dfs.items():\n",
    "        if any(df['Participant ID'].str.strip().str.upper() == unmapped_id):\n",
    "            print(f\"Potential match for {unmapped_id} found in {data_type} with different formatting!\")\n",
    "\n",
    "# Display a sample of mapped and unmapped IDs for comparison\n",
    "print(\"\\nSample of mapped IDs from clinical data:\")\n",
    "print(list(clinical_ids_set - unmapped_ids)[:5])\n",
    "print(\"\\nSample of unmapped IDs:\")\n",
    "print(list(unmapped_ids)[:5])"
   ]
  },
  {
   "cell_type": "code",
   "execution_count": 5,
   "metadata": {},
   "outputs": [
    {
     "name": "stdout",
     "output_type": "stream",
     "text": [
      "Sample of unified_mapping:\n",
      "     Participant ID transcriptomics_Sample_ID  \\\n",
      "0  CASE-NEUAA295HHE   CASE-NEUAA295HHE-9010-T   \n",
      "1  CTRL-NEUAA485DZL   CTRL-NEUAA485DZL-7575-T   \n",
      "2  CASE-NEUAA599TMX   CASE-NEUAA599TMX-5314-T   \n",
      "3  CASE-NEUAB000NKC   CASE-NEUAB000NKC-5730-T   \n",
      "4  CASE-NEUAC617GR5                       NaN   \n",
      "\n",
      "  transcriptomics_participant_code     proteomics_Sample_ID  \\\n",
      "0                      NEUAA295HHE  CASE-NEUAA295HHE-9010-P   \n",
      "1                      NEUAA485DZL  CTRL-NEUAA485DZL-7575-P   \n",
      "2                      NEUAA599TMX  CASE-NEUAA599TMX-5314-P   \n",
      "3                      NEUAB000NKC  CASE-NEUAB000NKC-5730-P   \n",
      "4                              NaN                      NaN   \n",
      "\n",
      "  proteomics_participant_code    epigenomics_Sample_ID  \\\n",
      "0                 NEUAA295HHE  CASE-NEUAA295HHE-9010-E   \n",
      "1                 NEUAA485DZL  CTRL-NEUAA485DZL-7575-E   \n",
      "2                 NEUAA599TMX  CASE-NEUAA599TMX-5314-E   \n",
      "3                 NEUAB000NKC  CASE-NEUAB000NKC-5730-E   \n",
      "4                         NaN                      NaN   \n",
      "\n",
      "  epigenomics_participant_code  \n",
      "0                  NEUAA295HHE  \n",
      "1                  NEUAA485DZL  \n",
      "2                  NEUAA599TMX  \n",
      "3                  NEUAB000NKC  \n",
      "4                          NaN  \n",
      "\n",
      "Sample of transcriptomics_Sample_ID:\n",
      "['CASE-NEUAA295HHE-9010-T', 'CTRL-NEUAA485DZL-7575-T', 'CASE-NEUAA599TMX-5314-T', 'CASE-NEUAB000NKC-5730-T', 'CASE-NEUAD542VT0-9003-T']\n",
      "\n",
      "Sample of proteomics_Sample_ID:\n",
      "['CASE-NEUAA295HHE-9010-P', 'CTRL-NEUAA485DZL-7575-P', 'CASE-NEUAA599TMX-5314-P', 'CASE-NEUAB000NKC-5730-P', 'CASE-NEUAD542VT0-9003-P']\n",
      "\n",
      "Sample of epigenomics_Sample_ID:\n",
      "['CASE-NEUAA295HHE-9010-E', 'CTRL-NEUAA485DZL-7575-E', 'CASE-NEUAA599TMX-5314-E', 'CASE-NEUAB000NKC-5730-E', 'CASE-NEUAD542VT0-9003-E']\n"
     ]
    }
   ],
   "source": [
    "# Cell 3.6: Inspect Unified Mapping Sample IDs\n",
    "print(\"Sample of unified_mapping:\")\n",
    "print(unified_mapping.head())\n",
    "print(\"\\nSample of transcriptomics_Sample_ID:\")\n",
    "print(unified_mapping['transcriptomics_Sample_ID'].dropna().head().tolist())\n",
    "print(\"\\nSample of proteomics_Sample_ID:\")\n",
    "print(unified_mapping['proteomics_Sample_ID'].dropna().head().tolist())\n",
    "print(\"\\nSample of epigenomics_Sample_ID:\")\n",
    "print(unified_mapping['epigenomics_Sample_ID'].dropna().head().tolist())"
   ]
  },
  {
   "cell_type": "code",
   "execution_count": 6,
   "metadata": {},
   "outputs": [
    {
     "data": {
      "text/plain": [
       "['AnswerALS-651-T-v1-release6_raw-counts.csv', 'Sample Mapping Information']"
      ]
     },
     "execution_count": 6,
     "metadata": {},
     "output_type": "execute_result"
    }
   ],
   "source": [
    "# Cell 3.7: List Transcriptomics Files\n",
    "transcriptomics_dir = \"/home/w2sg-arnav/nihwork/als_data/transcriptomics/4_matrix\"\n",
    "os.listdir(transcriptomics_dir)"
   ]
  },
  {
   "cell_type": "code",
   "execution_count": 7,
   "metadata": {},
   "outputs": [
    {
     "data": {
      "text/plain": [
       "['AnswerALS-620-E-v1-release6_DiffBind-raw-counts-minOverlap-0.1.csv',\n",
       " 'Sample Mapping Information']"
      ]
     },
     "execution_count": 7,
     "metadata": {},
     "output_type": "execute_result"
    }
   ],
   "source": [
    "# Cell 3.8: List Epigenomics Files\n",
    "epigenomics_dir = \"/home/w2sg-arnav/nihwork/als_data/epigenomics/4_matrix\"\n",
    "os.listdir(epigenomics_dir)"
   ]
  },
  {
   "cell_type": "markdown",
   "metadata": {},
   "source": [
    "### Unified Mapping Check\n",
    "- This cell creates a mapping between clinical participant IDs and sample IDs across datasets.\n",
    "- Check for errors (e.g., `FileNotFoundError` for mapping files).\n",
    "- Inspect `unified_mapping.head()` to ensure it has columns like `Participant ID`, `transcriptomics_Sample_ID`, etc."
   ]
  },
  {
   "cell_type": "code",
   "execution_count": 8,
   "metadata": {},
   "outputs": [
    {
     "name": "stdout",
     "output_type": "stream",
     "text": [
      "Loaded transcriptomics data from /home/w2sg-arnav/nihwork/als_data/transcriptomics/4_matrix/AnswerALS-651-T-v1-release6_raw-counts.csv. Shape: (60664, 774)\n",
      "Index name: None\n",
      "Columns (sample IDs): ['Geneid', 'CASE-NEUAA599TMX-5310-T', 'CASE-NEUAB000NKC-5726-T', 'CASE-NEUAE228FF6-7459-T', 'CASE-NEUAE993EPR-6287-T']...\n",
      "Mapping subset for transcriptomics: (734, 2)\n",
      "\n",
      "Mismatch report for transcriptomics:\n",
      "  data_type: transcriptomics\n",
      "  total_data_columns: 774\n",
      "  total_mapping_ids: 734\n",
      "  data_with_codes: 694\n",
      "  mapping_with_codes: 734\n",
      "  unique_data_codes: 572\n",
      "  unique_mapping_codes: 734\n",
      "  common_codes: 559\n",
      "  match_percentage: 97.72727272727273\n",
      "Direct matches after normalization: 0 out of 774\n",
      "Trying enhanced sample matching...\n",
      "Matched 559 out of 572 columns\n",
      "Unmatched columns: 13\n",
      "Mapped 559 columns to participant IDs\n",
      "After mapping, samples with participant IDs: 681\n",
      "Warning: Duplicate participant IDs found. Taking the mean of duplicates.\n",
      "Error processing /home/w2sg-arnav/nihwork/als_data/transcriptomics/4_matrix/AnswerALS-651-T-v1-release6_raw-counts.csv: agg function failed [how->mean,dtype->object]\n",
      "Error: Failed to load transcriptomics data. Check the path and try again.\n"
     ]
    },
    {
     "ename": "AttributeError",
     "evalue": "'NoneType' object has no attribute 'head'",
     "output_type": "error",
     "traceback": [
      "\u001b[0;31m---------------------------------------------------------------------------\u001b[0m",
      "\u001b[0;31mAttributeError\u001b[0m                            Traceback (most recent call last)",
      "Cell \u001b[0;32mIn[8], line 16\u001b[0m\n\u001b[1;32m     13\u001b[0m     \u001b[38;5;28mprint\u001b[39m(\u001b[38;5;124m\"\u001b[39m\u001b[38;5;124mTranscriptomics data merged successfully!\u001b[39m\u001b[38;5;124m\"\u001b[39m)\n\u001b[1;32m     15\u001b[0m \u001b[38;5;66;03m# Display the result\u001b[39;00m\n\u001b[0;32m---> 16\u001b[0m \u001b[43mtranscriptomics_df\u001b[49m\u001b[38;5;241;43m.\u001b[39;49m\u001b[43mhead\u001b[49m()\n",
      "\u001b[0;31mAttributeError\u001b[0m: 'NoneType' object has no attribute 'head'"
     ]
    }
   ],
   "source": [
    "# Cell 4: Load and Merge Transcriptomics Data\n",
    "transcriptomics_df = load_and_merge(\n",
    "    data_paths[\"transcriptomics\"],\n",
    "    unified_mapping,\n",
    "    \"transcriptomics\",\n",
    "    index_col=0\n",
    ")\n",
    "\n",
    "if transcriptomics_df is None:\n",
    "    print(\"Error: Failed to load transcriptomics data. Check the path and try again.\")\n",
    "else:\n",
    "    transcriptomics_df.to_csv(os.path.join(OUTPUT_DIR, \"transcriptomics_merged.csv\"), index=False)\n",
    "    print(\"Transcriptomics data merged successfully!\")\n",
    "\n",
    "# Display the result\n",
    "transcriptomics_df.head()"
   ]
  },
  {
   "cell_type": "markdown",
   "metadata": {},
   "source": [
    "### Transcriptomics Data Check\n",
    "- This cell will likely fail because `TRANSCRIPTOMICS_PATH` is a placeholder.\n",
    "- Update `TRANSCRIPTOMICS_PATH` in Cell 1 with the correct file name (e.g., the file with `'Geneid'` and sample IDs like `'CASE-NEUAA599TMX-5310-T'`).\n",
    "- Once fixed, check `transcriptomics_df.head()` to see the merged data."
   ]
  },
  {
   "cell_type": "code",
   "execution_count": null,
   "metadata": {},
   "outputs": [],
   "source": [
    "# Cell 5: Load and Merge Proteomics Data\n",
    "proteomics_df = load_and_merge(\n",
    "    data_paths[\"proteomics\"],\n",
    "    unified_mapping,\n",
    "    \"proteomics\",\n",
    "    delimiter='\\t',\n",
    "    index_col=0\n",
    ")\n",
    "\n",
    "if proteomics_df is None:\n",
    "    print(\"Error: Failed to load proteomics data. Check the path and try again.\")\n",
    "else:\n",
    "    proteomics_df.to_csv(os.path.join(OUTPUT_DIR, \"proteomics_merged.csv\"), index=False)\n",
    "    print(\"Proteomics data merged successfully!\")\n",
    "\n",
    "# Display the result\n",
    "proteomics_df.head()"
   ]
  },
  {
   "cell_type": "code",
   "execution_count": null,
   "metadata": {},
   "outputs": [],
   "source": [
    "# Cell 5.6: List Proteomics Files\n",
    "proteomics_dir = \"/home/w2sg-arnav/nihwork/als_data/proteomics/4_matrix\"\n",
    "os.listdir(proteomics_dir)"
   ]
  },
  {
   "cell_type": "markdown",
   "metadata": {},
   "source": [
    "### Proteomics Data Check\n",
    "- This cell loads and merges the proteomics data.\n",
    "- If it fails (e.g., due to `PROTEOMICS_MAP_PATH`), update the path in Cell 1.\n",
    "- Inspect `proteomics_df.head()` to verify the data."
   ]
  },
  {
   "cell_type": "code",
   "execution_count": null,
   "metadata": {},
   "outputs": [],
   "source": [
    "# Cell 6: Load and Merge Epigenomics Data\n",
    "epigenomics_methylation_df = load_and_merge(\n",
    "    data_paths[\"epigenomics\"],\n",
    "    unified_mapping,\n",
    "    \"epigenomics\",\n",
    "    index_col=0\n",
    ")\n",
    "\n",
    "if epigenomics_methylation_df is None:\n",
    "    print(\"Error: Failed to load epigenomics data. Check the path and try again.\")\n",
    "else:\n",
    "    epigenomics_methylation_df.to_csv(os.path.join(OUTPUT_DIR, \"epigenomics_methylation_merged.csv\"), index=False)\n",
    "    print(\"Epigenomics data merged successfully!\")\n",
    "\n",
    "# Display the result\n",
    "epigenomics_methylation_df.head()"
   ]
  },
  {
   "cell_type": "markdown",
   "metadata": {},
   "source": [
    "### Epigenomics Data Check\n",
    "- This cell loads and merges the epigenomics data.\n",
    "- If it fails (e.g., due to `EPIGENOMICS_METHYL_PATH`), update the path in Cell 1.\n",
    "- Inspect `epigenomics_methylation_df.head()` to verify the data."
   ]
  },
  {
   "cell_type": "code",
   "execution_count": null,
   "metadata": {},
   "outputs": [],
   "source": [
    "# Cell 7: Integrate Datasets\n",
    "# Merge the transcriptomics, proteomics, and epigenomics DataFrames on Participant ID\n",
    "# Start with clinical data to include subject_group_id (ALS case/control labels)\n",
    "integrated_df = clinical_df[['Participant ID', 'subject_group_id']].copy()\n",
    "integrated_df = integrated_df.rename(columns={'subject_group_id': 'Disease_Status'}) # Standardize to 'Disease_Status'\n",
    "\n",
    "# Merge with transcriptomics\n",
    "if transcriptomics_df is not None:\n",
    "    integrated_df = integrated_df.merge(transcriptomics_df, left_on='Participant ID', right_index=True, how='outer')\n",
    "    print(f\"After merging transcriptomics, shape: {integrated_df.shape}\")\n",
    "\n",
    "# Merge with proteomics\n",
    "if proteomics_df is not None:\n",
    "    integrated_df = integrated_df.merge(proteomics_df, left_on='Participant ID', right_index=True, how='outer')\n",
    "    print(f\"After merging proteomics, shape: {integrated_df.shape}\")\n",
    "\n",
    "# Merge with epigenomics\n",
    "if epigenomics_methylation_df is not None:\n",
    "    integrated_df = integrated_df.merge(epigenomics_methylation_df, left_on='Participant ID', right_index=True, how='outer')\n",
    "    print(f\"After merging epigenomics, shape: {integrated_df.shape}\")\n",
    "\n",
    "# Set Participant ID as index for consistency with utils.py functions\n",
    "integrated_df = integrated_df.set_index('Participant ID')\n",
    "\n",
    "print(\"Integrated data shape before cleaning:\", integrated_df.shape)\n",
    "integrated_df.head()"
   ]
  },
  {
   "cell_type": "code",
   "execution_count": null,
   "metadata": {},
   "outputs": [],
   "source": [
    "# Cell 8: Data Cleaning, Analysis, and Visualization (using utils.py functions)\n",
    "# Handle missing values\n",
    "cleaned_df = handle_missing_values(integrated_df)\n",
    "\n",
    "# Perform initial analysis\n",
    "analysis_results = perform_initial_analysis(cleaned_df)\n",
    "\n",
    "# Create visualizations\n",
    "visualization_results = visualize_results(cleaned_df, analysis_results)\n",
    "\n",
    "# Save the cleaned and integrated data\n",
    "save_integrated_data(cleaned_df, os.path.join(OUTPUT_DIR, \"final_integrated_omics_data.csv\"))\n",
    "\n",
    "print(\"Data cleaning, analysis, and visualization complete!\")\n",
    "print(f\"Final cleaned dataset shape: {cleaned_df.shape}\")"
   ]
  },
  {
   "cell_type": "code",
   "execution_count": null,
   "metadata": {},
   "outputs": [],
   "source": [
    "# Cell 9:  Summary and Confirmation\n",
    "print(\"End-to-end multi-omics integration and analysis pipeline completed!\")\n",
    "print(f\"Cleaned dataset available at: {os.path.join(OUTPUT_DIR, 'final_integrated_omics_data.csv')}\")\n",
    "\n",
    "# (Optional) Print a summary of analysis results\n",
    "if 'differential_analysis' in analysis_results:\n",
    "    for omics, results in analysis_results['differential_analysis'].items():\n",
    "        if 'num_significant' in results:\n",
    "            print(f\"  {omics}: {results['num_significant']} significant features identified\")"
   ]
  }
 ],
 "metadata": {
  "kernelspec": {
   "display_name": "als_biomarker",
   "language": "python",
   "name": "python3"
  },
  "language_info": {
   "codemirror_mode": {
    "name": "ipython",
    "version": 3
   },
   "file_extension": ".py",
   "mimetype": "text/x-python",
   "name": "python",
   "nbconvert_exporter": "python",
   "pygments_lexer": "ipython3",
   "version": "3.9.21"
  }
 },
 "nbformat": 4,
 "nbformat_minor": 2
}
